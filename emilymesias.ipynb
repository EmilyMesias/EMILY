{
  "nbformat": 4,
  "nbformat_minor": 0,
  "metadata": {
    "colab": {
      "provenance": [],
      "authorship_tag": "ABX9TyPL774VNSrl4l/NdTEW3C12",
      "include_colab_link": true
    },
    "kernelspec": {
      "name": "python3",
      "display_name": "Python 3"
    },
    "language_info": {
      "name": "python"
    }
  },
  "cells": [
    {
      "cell_type": "markdown",
      "metadata": {
        "id": "view-in-github",
        "colab_type": "text"
      },
      "source": [
        "<a href=\"https://colab.research.google.com/github/EmilyMesias/EMILY/blob/main/emilymesias.ipynb\" target=\"_parent\"><img src=\"https://colab.research.google.com/assets/colab-badge.svg\" alt=\"Open In Colab\"/></a>"
      ]
    },
    {
      "cell_type": "code",
      "execution_count": 1,
      "metadata": {
        "colab": {
          "base_uri": "https://localhost:8080/"
        },
        "id": "HiSUVHqmVqjJ",
        "outputId": "70c324d1-7d83-4b3a-b139-9815ef90813a"
      },
      "outputs": [
        {
          "output_type": "stream",
          "name": "stdout",
          "text": [
            "[[ 4 10  7  7]\n",
            " [ 8  2  2  4]\n",
            " [ 8  4  4  3]]\n",
            "[[ 8  9  1  4]\n",
            " [10  5  2  5]\n",
            " [ 6  3  4  2]]\n",
            "(3, 4)\n",
            "(3, 4)\n",
            "Adding numbers\n",
            "[[12 19  8 11]\n",
            " [18  7  4  9]\n",
            " [14  7  8  5]]\n",
            "Subtracting numbers\n",
            "[[-4  1  6  3]\n",
            " [-2 -3  0 -1]\n",
            " [ 2  1  0  1]]\n",
            "Multiplication numbers\n",
            "[[32 90  7 28]\n",
            " [80 10  4 20]\n",
            " [48 12 16  6]]\n",
            "Add\n",
            "[[12 19  8 11]\n",
            " [18  7  4  9]\n",
            " [14  7  8  5]]\n",
            "Substract\n",
            "[[32 90  7 28]\n",
            " [80 10  4 20]\n",
            " [48 12 16  6]]\n",
            "Multiply\n",
            "[[-4  1  6  3]\n",
            " [-2 -3  0 -1]\n",
            " [ 2  1  0  1]]\n",
            "Divide\n",
            "[[0.5        1.11111111 7.         1.75      ]\n",
            " [0.8        0.4        1.         0.8       ]\n",
            " [1.33333333 1.33333333 1.         1.5       ]]\n"
          ]
        }
      ],
      "source": [
        "import numpy as np\n",
        "\n",
        "#create an array with random inteher values between 1 and 10\n",
        "a = np.random.randint(1, 11, size=(3,4))\n",
        "b = np.random.randint(1, 11, size=(3,4))\n",
        "print(a)\n",
        "print(b)\n",
        "print(a.shape)\n",
        "print(b.shape)\n",
        "print('Adding numbers')\n",
        "#plus\n",
        "print(a+b)\n",
        "print('Subtracting numbers')\n",
        "#minus\n",
        "print(a-b)\n",
        "print('Multiplication numbers')\n",
        "#times\n",
        "print(a*b)\n",
        "\n",
        "\n",
        "print('Add')\n",
        "print(np.add(a,b))\n",
        "print('Substract')\n",
        "print(np.multiply(a,b))\n",
        "print('Multiply')\n",
        "print(np.subtract(a,b))\n",
        "print('Divide')\n",
        "print(np.divide(a,b))\n",
        ""
      ]
    },
    {
      "cell_type": "code",
      "source": [
        "m1 = np.random.randint(1, 11, size=(3,4))\n",
        "m2 = np.random.randint(1, 11, size=(4,8))\n",
        "print('Matriz 1')\n",
        "print(m1)\n",
        "print(m1.shape)\n",
        "print('Matriz 2')\n",
        "print(m2)\n",
        "print(m2.shape)\n",
        "print('-------------------------')\n",
        "print('Forma 1')\n",
        "print(np.dot(m1,m2))\n",
        "print('Forma 2')\n",
        "print(m1.dot(m2))\n",
        "print(np.dot(m1,m2).shape)"
      ],
      "metadata": {
        "colab": {
          "base_uri": "https://localhost:8080/"
        },
        "id": "6CGPEmGcV2m7",
        "outputId": "c33c4714-0127-4772-df05-70337890ad19"
      },
      "execution_count": 2,
      "outputs": [
        {
          "output_type": "stream",
          "name": "stdout",
          "text": [
            "Matriz 1\n",
            "[[ 3  2  4  3]\n",
            " [ 4  2  4  5]\n",
            " [10  2  9  3]]\n",
            "(3, 4)\n",
            "Matriz 2\n",
            "[[ 8  3  7  2  2  7  1 10]\n",
            " [ 7  7  4  2  3 10  1  3]\n",
            " [ 1  5 10  8  3  2  3  7]\n",
            " [ 8  5  5 10  7  7 10  8]]\n",
            "(4, 8)\n",
            "-------------------------\n",
            "Forma 1\n",
            "[[ 66  58  84  72  45  70  47  88]\n",
            " [ 90  71 101  94  61  91  68 114]\n",
            " [127 104 183 126  74 129  69 193]]\n",
            "Forma 2\n",
            "[[ 66  58  84  72  45  70  47  88]\n",
            " [ 90  71 101  94  61  91  68 114]\n",
            " [127 104 183 126  74 129  69 193]]\n",
            "(3, 8)\n"
          ]
        }
      ]
    },
    {
      "cell_type": "code",
      "source": [
        "a = np.random.randint(1, 11, size=(2,2))\n",
        "print(a.shape)\n",
        "print(type(a))\n",
        "print(a)\n",
        "print(a.T)\n",
        ""
      ],
      "metadata": {
        "colab": {
          "base_uri": "https://localhost:8080/"
        },
        "id": "yyHBJlflV89r",
        "outputId": "445facbf-da28-464a-8c57-89811953850d"
      },
      "execution_count": 3,
      "outputs": [
        {
          "output_type": "stream",
          "name": "stdout",
          "text": [
            "(2, 2)\n",
            "<class 'numpy.ndarray'>\n",
            "[[1 4]\n",
            " [7 1]]\n",
            "[[1 7]\n",
            " [4 1]]\n"
          ]
        }
      ]
    },
    {
      "cell_type": "code",
      "source": [
        "#broadcast\n",
        "x = np.random.randint(1, 11, size=(4,3))\n",
        "y = np.array([1,0,2])\n",
        "\n",
        "print(x.shape)\n",
        "print(y.shape)\n",
        "\n",
        "z=np.empty_like(x)\n",
        "print('---------------------')\n",
        "print(x)\n",
        "print('---------------------')\n",
        "print(y)\n",
        "print(z.shape)\n",
        "print('---------------------')\n",
        "print(z)\n",
        ""
      ],
      "metadata": {
        "colab": {
          "base_uri": "https://localhost:8080/"
        },
        "id": "Huwcm3tmWCxU",
        "outputId": "53b672f8-7626-4e07-8a14-9e066619868e"
      },
      "execution_count": 4,
      "outputs": [
        {
          "output_type": "stream",
          "name": "stdout",
          "text": [
            "(4, 3)\n",
            "(3,)\n",
            "---------------------\n",
            "[[ 7  3  4]\n",
            " [10  7  9]\n",
            " [10  3  3]\n",
            " [ 3  3  2]]\n",
            "---------------------\n",
            "[1 0 2]\n",
            "(4, 3)\n",
            "---------------------\n",
            "[[4602678819172646912 4607682818758614130 4619567317775286272]\n",
            " [4610560118520545280 4605380978949069210 4600877379321698714]\n",
            " [4607182418800017408 4605380978949069210 4608683618675807573]\n",
            " [4608683618675807573 4607182418800017408 4609434218613702656]]\n"
          ]
        }
      ]
    },
    {
      "cell_type": "code",
      "source": [
        "for i in range(4):\n",
        "  z[i,:]=x[i,:]+y\n",
        "print(z)"
      ],
      "metadata": {
        "colab": {
          "base_uri": "https://localhost:8080/"
        },
        "id": "N-ynufb_WIT-",
        "outputId": "a62fb140-59cb-41a4-a938-7b96f0b8e87c"
      },
      "execution_count": 5,
      "outputs": [
        {
          "output_type": "stream",
          "name": "stdout",
          "text": [
            "[[ 8  3  6]\n",
            " [11  7 11]\n",
            " [11  3  5]\n",
            " [ 4  3  4]]\n"
          ]
        }
      ]
    },
    {
      "cell_type": "code",
      "source": [
        "z=x+y\n",
        "print(z)\n"
      ],
      "metadata": {
        "colab": {
          "base_uri": "https://localhost:8080/"
        },
        "id": "KpH4H66vWOy6",
        "outputId": "3872e71a-0fae-4095-e4ed-1e105d148f13"
      },
      "execution_count": 6,
      "outputs": [
        {
          "output_type": "stream",
          "name": "stdout",
          "text": [
            "[[ 8  3  6]\n",
            " [11  7 11]\n",
            " [11  3  5]\n",
            " [ 4  3  4]]\n"
          ]
        }
      ]
    },
    {
      "cell_type": "code",
      "source": [
        "#para comentar varias lineas de codigo se usa triple comillas simples \"\"\"  \"\"\"\n",
        "\n",
        "a=np.array([1,2,3])\n",
        "print(a)\n",
        "print('-----------------')\n",
        "\n",
        "b = np.full((6,3),[a])\n",
        "print(b)\n",
        "print('-----------------')\n",
        "\n",
        "c= np.tile(a,(6,1))\n",
        "print(c)"
      ],
      "metadata": {
        "colab": {
          "base_uri": "https://localhost:8080/"
        },
        "id": "QPFqtLRSWVGg",
        "outputId": "f679fd06-605d-47a6-9422-b6a593d9df85"
      },
      "execution_count": 7,
      "outputs": [
        {
          "output_type": "stream",
          "name": "stdout",
          "text": [
            "[1 2 3]\n",
            "-----------------\n",
            "[[1 2 3]\n",
            " [1 2 3]\n",
            " [1 2 3]\n",
            " [1 2 3]\n",
            " [1 2 3]\n",
            " [1 2 3]]\n",
            "-----------------\n",
            "[[1 2 3]\n",
            " [1 2 3]\n",
            " [1 2 3]\n",
            " [1 2 3]\n",
            " [1 2 3]\n",
            " [1 2 3]]\n"
          ]
        }
      ]
    },
    {
      "cell_type": "code",
      "source": [
        "m1 = np.random.randint(0, 10, size=(6,6))\n",
        "print(m1)\n",
        "aux=np.mean(m1)\n",
        "print(aux)\n",
        "\n",
        "np.mean(m1, axis=1) #promedio por filas\n",
        "np.mean(m1, axis=0) #promedio por filas\n",
        "\n",
        "print('Promedio por filas')\n",
        "print(np.mean(m1, axis=1))\n",
        "print('Promedio por columnas')\n",
        "print(np.mean(m1, axis=0))"
      ],
      "metadata": {
        "colab": {
          "base_uri": "https://localhost:8080/"
        },
        "id": "7ShkdHNkWayV",
        "outputId": "aaeec195-b758-489d-f38b-1d02fc087692"
      },
      "execution_count": 8,
      "outputs": [
        {
          "output_type": "stream",
          "name": "stdout",
          "text": [
            "[[9 2 0 6 3 8]\n",
            " [8 0 7 1 7 7]\n",
            " [9 6 7 8 6 9]\n",
            " [0 7 3 8 4 9]\n",
            " [1 6 8 1 3 7]\n",
            " [3 0 6 0 1 2]]\n",
            "4.777777777777778\n",
            "Promedio por filas\n",
            "[4.66666667 5.         7.5        5.16666667 4.33333333 2.        ]\n",
            "Promedio por columnas\n",
            "[5.         3.5        5.16666667 4.         4.         7.        ]\n"
          ]
        }
      ]
    }
  ]
}