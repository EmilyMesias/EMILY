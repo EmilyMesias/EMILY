{
  "nbformat": 4,
  "nbformat_minor": 0,
  "metadata": {
    "colab": {
      "provenance": [],
      "toc_visible": true,
      "authorship_tag": "ABX9TyNdPEzrzHYwzDzLSBIQz1J0",
      "include_colab_link": true
    },
    "kernelspec": {
      "name": "python3",
      "display_name": "Python 3"
    },
    "language_info": {
      "name": "python"
    }
  },
  "cells": [
    {
      "cell_type": "markdown",
      "metadata": {
        "id": "view-in-github",
        "colab_type": "text"
      },
      "source": [
        "<a href=\"https://colab.research.google.com/github/EmilyMesias/EMILY/blob/main/Emily.ipynb\" target=\"_parent\"><img src=\"https://colab.research.google.com/assets/colab-badge.svg\" alt=\"Open In Colab\"/></a>"
      ]
    },
    {
      "cell_type": "markdown",
      "source": [
        "\n",
        "Basic data types"
      ],
      "metadata": {
        "id": "hlvrDSuvThDA"
      }
    },
    {
      "cell_type": "code",
      "execution_count": 1,
      "metadata": {
        "colab": {
          "base_uri": "https://localhost:8080/"
        },
        "id": "cmSy1863TIJB",
        "outputId": "d4ba3705-4062-42e0-9bba-a0d9a8e50061"
      },
      "outputs": [
        {
          "output_type": "stream",
          "name": "stdout",
          "text": [
            "<class 'int'>\n",
            "<class 'float'>\n",
            "<class 'str'>\n",
            "12.2\n",
            "7.8\n",
            "22.0\n",
            "4.545454545454545\n"
          ]
        }
      ],
      "source": [
        "\n",
        "variable1=10\n",
        "variable2=2.2\n",
        "variable3='Parangaricutirimicuaro'\n",
        "print(type(variable1))\n",
        "print(type(variable2))\n",
        "print(type(variable3))\n",
        "\n",
        "\n",
        "print(variable1+variable2)\n",
        "print(variable1-variable2)\n",
        "print(variable1*variable2)\n",
        "print(variable1/variable2)\n",
        "\n",
        "v1=True\n",
        "v2=False"
      ]
    },
    {
      "cell_type": "markdown",
      "source": [
        "Containers"
      ],
      "metadata": {
        "id": "1ak7YDo5Trg9"
      }
    },
    {
      "cell_type": "markdown",
      "source": [
        "1. Lists"
      ],
      "metadata": {
        "id": "TLCP7KyVUKPR"
      }
    },
    {
      "cell_type": "code",
      "source": [
        "\n",
        "algunaLista=list()\n",
        "algunaLista=['borrador','cuaderno','goma','lápiz','mochila','esferos','lapices de colores',True]\n",
        "print(algunaLista[2])\n",
        "print(algunaLista[7])\n",
        "print(len(algunaLista))\n",
        "print('--------------------')\n",
        "\n",
        "\n",
        "# for i in algunaLista:\n",
        "#   print(i)\n",
        "# print('--------------------')\n",
        "\n",
        "\n",
        "# algunaLista.append('regla')\n",
        "# for i in algunaLista:\n",
        "#   print(i)\n",
        "# algunaLista.pop(2)\n",
        "# print('--------------------')\n",
        "\n",
        "\n",
        "# for i in algunaLista:\n",
        "#   print(i)\n",
        "# print('--------------------')\n",
        "\n",
        "\n",
        "# # Slicing\n",
        "# print(algunaLista[1:5])\n",
        "\n",
        "# print(algunaLista[-1])\n",
        "\n",
        "print(algunaLista[0:3])"
      ],
      "metadata": {
        "colab": {
          "base_uri": "https://localhost:8080/"
        },
        "id": "rc9_ilHLTuNZ",
        "outputId": "d16857c3-0b52-41ec-98bd-0e393645bb46"
      },
      "execution_count": 2,
      "outputs": [
        {
          "output_type": "stream",
          "name": "stdout",
          "text": [
            "goma\n",
            "True\n",
            "8\n",
            "--------------------\n",
            "['borrador', 'cuaderno', 'goma']\n"
          ]
        }
      ]
    },
    {
      "cell_type": "markdown",
      "source": [
        "2. Dictionaries"
      ],
      "metadata": {
        "id": "jINJRToET99g"
      }
    },
    {
      "cell_type": "code",
      "source": [
        "d={'name':'Juan','age':30,'city':'El Carmen'}\n",
        "# print(d['name'])\n",
        "# print(d['city'])\n",
        "\n",
        "# d['uni']='ULEAM'\n",
        "# print(d['uni'])\n",
        "\n",
        "for key in d:\n",
        "  print(d[key])"
      ],
      "metadata": {
        "colab": {
          "base_uri": "https://localhost:8080/"
        },
        "id": "pMB3_OQxUApN",
        "outputId": "67e0e6b2-70b9-4c6b-c206-470c7957010f"
      },
      "execution_count": 3,
      "outputs": [
        {
          "output_type": "stream",
          "name": "stdout",
          "text": [
            "Juan\n",
            "30\n",
            "El Carmen\n"
          ]
        }
      ]
    }
  ]
}