{
  "nbformat": 4,
  "nbformat_minor": 0,
  "metadata": {
    "colab": {
      "provenance": [],
      "include_colab_link": true
    },
    "kernelspec": {
      "name": "python3",
      "display_name": "Python 3"
    },
    "language_info": {
      "name": "python"
    }
  },
  "cells": [
    {
      "cell_type": "markdown",
      "metadata": {
        "id": "view-in-github",
        "colab_type": "text"
      },
      "source": [
        "<a href=\"https://colab.research.google.com/github/EmilyMesias/EMILY/blob/main/Actividad_2.ipynb\" target=\"_parent\"><img src=\"https://colab.research.google.com/assets/colab-badge.svg\" alt=\"Open In Colab\"/></a>"
      ]
    },
    {
      "cell_type": "code",
      "execution_count": null,
      "metadata": {
        "colab": {
          "base_uri": "https://localhost:8080/"
        },
        "id": "tBvMakN909Ki",
        "outputId": "a4116f5d-e963-445d-a7da-3abb6f6bbbe3"
      },
      "outputs": [
        {
          "output_type": "stream",
          "name": "stdout",
          "text": [
            "Python 3.10.12\n"
          ]
        }
      ],
      "source": [
        "!python --version"
      ]
    },
    {
      "cell_type": "markdown",
      "source": [
        "Tipo de Datos Básicos\n"
      ],
      "metadata": {
        "id": "oz9TvKnO1Ruo"
      }
    },
    {
      "cell_type": "code",
      "source": [
        "sample1=10\n",
        "sample2=2.2\n",
        "sample3='Emily'\n",
        "\n",
        "print(type[sample1])\n",
        "print(type[sample2])\n",
        "print(type[sample3])\n",
        "\n",
        "print(sample1+sample2)\n",
        "print(sample1*sample2)\n",
        "print(sample1**2)\n",
        "\n",
        "s1=True\n",
        "s2=False\n",
        "\n",
        "#print(s1 and s2)\n",
        "#print(s1 or s2)\n",
        "#print(not s1)\n",
        "\n",
        "#print(len(sample3))\n",
        "#print(sample3.upper())\n",
        "#print(sample3.lower())\n",
        "#print(sample3.capitalize())"
      ],
      "metadata": {
        "colab": {
          "base_uri": "https://localhost:8080/"
        },
        "id": "fDzrQj8_11Fd",
        "outputId": "b1f88eb9-8920-49d5-89e5-3f1095e2b9a4"
      },
      "execution_count": 1,
      "outputs": [
        {
          "output_type": "stream",
          "name": "stdout",
          "text": [
            "type[10]\n",
            "type[2.2]\n",
            "type['Emily']\n",
            "12.2\n",
            "22.0\n",
            "100\n"
          ]
        }
      ]
    },
    {
      "cell_type": "code",
      "source": [
        "someList=list()\n",
        "someList=['Lapiz',1,'compas', 'borrador', True]\n",
        "print(someList[4])\n",
        "print(len(someList))\n",
        "\n",
        "# print('----------------')\n",
        "# for i in someList:\n",
        "#   print(i)\n",
        "\n",
        "# someList.append('regla')\n",
        "# print('-----------------')\n",
        "# for i in someList:\n",
        "#   print(i)\n",
        "# someList.pop(2)\n",
        "# print('*********')\n",
        "# for i in someList:\n",
        "#  print(i)\n",
        "# print('----')\n",
        "# print(someList[1:4])\n",
        "print(someList[-1])\n",
        "print(someList[:3])\n"
      ],
      "metadata": {
        "colab": {
          "base_uri": "https://localhost:8080/"
        },
        "id": "Zn5ZB11jhWfw",
        "outputId": "39074faf-7f71-4437-94c9-eb9af345f823"
      },
      "execution_count": 2,
      "outputs": [
        {
          "output_type": "stream",
          "name": "stdout",
          "text": [
            "True\n",
            "5\n",
            "True\n",
            "['Lapiz', 1, 'compas']\n"
          ]
        }
      ]
    },
    {
      "cell_type": "code",
      "source": [
        "d={'name':'Diego','age':25,'city':'El Carmen'}\n",
        "# print(d['name'])\n",
        "# print(d['name'])\n",
        "\n",
        "# d['uni']='Uleam'\n",
        "# print(d['name'])\n",
        "\n",
        "\n",
        "for key in d:\n",
        " print(d[key])"
      ],
      "metadata": {
        "colab": {
          "base_uri": "https://localhost:8080/"
        },
        "id": "cG3iggdhnX77",
        "outputId": "834fe2ec-1370-406c-c96d-c1264351a4ad"
      },
      "execution_count": 3,
      "outputs": [
        {
          "output_type": "stream",
          "name": "stdout",
          "text": [
            "Diego\n",
            "25\n",
            "El Carmen\n"
          ]
        }
      ]
    }
  ]
}