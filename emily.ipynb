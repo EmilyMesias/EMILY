{
  "nbformat": 4,
  "nbformat_minor": 0,
  "metadata": {
    "colab": {
      "provenance": [],
      "authorship_tag": "ABX9TyOX+42BVVryLLJC4Za+WLd8",
      "include_colab_link": true
    },
    "kernelspec": {
      "name": "python3",
      "display_name": "Python 3"
    },
    "language_info": {
      "name": "python"
    }
  },
  "cells": [
    {
      "cell_type": "markdown",
      "metadata": {
        "id": "view-in-github",
        "colab_type": "text"
      },
      "source": [
        "<a href=\"https://colab.research.google.com/github/EmilyMesias/EMILY/blob/main/emily.ipynb\" target=\"_parent\"><img src=\"https://colab.research.google.com/assets/colab-badge.svg\" alt=\"Open In Colab\"/></a>"
      ]
    },
    {
      "cell_type": "code",
      "source": [
        "import numpy as emily\n",
        "\n",
        "aux=emily.array([1,2,4,5])\n",
        "print(aux)\n",
        "# Tipo de arreglo\n",
        "print(aux.shape)\n",
        "print('------------------------------')\n",
        "\n",
        "aux=emily.array([[1,2,3,4],[1,2,3,4]])\n",
        "print(aux.shape)\n",
        "print(aux)\n",
        "print(type(aux))\n",
        "print('------------------------------')\n",
        "\n",
        "tmp=emily.zeros((4,4))\n",
        "print(tmp)\n",
        "print('------------------------------')\n",
        "\n",
        "\n",
        "tmp=emily.full((4,4),5)\n",
        "print(tmp)\n",
        "print('------------------------------')\n",
        "\n",
        "\n",
        "tmp=emily.eye(4,4)\n",
        "print(tmp)\n",
        "print('------------------------------')\n",
        "\n",
        "\n",
        "tmp=emily.ones((4,4))\n",
        "print(tmp)\n",
        "print('------------------------------')\n",
        ""
      ],
      "metadata": {
        "colab": {
          "base_uri": "https://localhost:8080/"
        },
        "id": "uY4JuBDEQ3Pf",
        "outputId": "dd6ae30e-f54c-4d02-a7db-966e56ea6532"
      },
      "execution_count": 4,
      "outputs": [
        {
          "output_type": "stream",
          "name": "stdout",
          "text": [
            "[1 2 4 5]\n",
            "(4,)\n",
            "------------------------------\n",
            "(2, 4)\n",
            "[[1 2 3 4]\n",
            " [1 2 3 4]]\n",
            "<class 'numpy.ndarray'>\n",
            "------------------------------\n",
            "[[0. 0. 0. 0.]\n",
            " [0. 0. 0. 0.]\n",
            " [0. 0. 0. 0.]\n",
            " [0. 0. 0. 0.]]\n",
            "------------------------------\n",
            "[[5 5 5 5]\n",
            " [5 5 5 5]\n",
            " [5 5 5 5]\n",
            " [5 5 5 5]]\n",
            "------------------------------\n",
            "[[1. 0. 0. 0.]\n",
            " [0. 1. 0. 0.]\n",
            " [0. 0. 1. 0.]\n",
            " [0. 0. 0. 1.]]\n",
            "------------------------------\n",
            "[[1. 1. 1. 1.]\n",
            " [1. 1. 1. 1.]\n",
            " [1. 1. 1. 1.]\n",
            " [1. 1. 1. 1.]]\n",
            "------------------------------\n"
          ]
        }
      ]
    },
    {
      "cell_type": "code",
      "source": [
        "tmp=10*emily.random.random((4,4))\n",
        "print(tmp)\n",
        "print('------------------------------')\n",
        ""
      ],
      "metadata": {
        "colab": {
          "base_uri": "https://localhost:8080/"
        },
        "id": "oENhBKH4TWml",
        "outputId": "6bb2d42f-bcab-4c08-ecfc-b3b3252deccf"
      },
      "execution_count": 5,
      "outputs": [
        {
          "output_type": "stream",
          "name": "stdout",
          "text": [
            "[[8.38462044 2.96265783 6.99668871 9.14253721]\n",
            " [0.41877271 6.8935025  0.69708977 3.30891262]\n",
            " [9.85313512 3.09427088 2.26161119 2.71699944]\n",
            " [1.57067966 1.76016252 7.22097921 1.45816747]]\n",
            "------------------------------\n"
          ]
        }
      ]
    },
    {
      "cell_type": "code",
      "source": [
        "print(tmp[:2,:2])\n",
        "print('------------------------------')\n",
        "print(tmp[2:4,2:4])\n",
        ""
      ],
      "metadata": {
        "colab": {
          "base_uri": "https://localhost:8080/"
        },
        "id": "GOYIbV-lTk3i",
        "outputId": "c4287803-72a5-483a-bfd0-610e1421a152"
      },
      "execution_count": 6,
      "outputs": [
        {
          "output_type": "stream",
          "name": "stdout",
          "text": [
            "[[8.38462044 2.96265783]\n",
            " [0.41877271 6.8935025 ]]\n",
            "------------------------------\n",
            "[[2.26161119 2.71699944]\n",
            " [7.22097921 1.45816747]]\n"
          ]
        }
      ]
    },
    {
      "cell_type": "code",
      "source": [
        "print(tmp[1,1])\n",
        "print('------------------------------')\n",
        "print(tmp[2,2])\n",
        "print('------------------------------')\n",
        ""
      ],
      "metadata": {
        "colab": {
          "base_uri": "https://localhost:8080/"
        },
        "id": "lNNBFJAVTyZW",
        "outputId": "a30ca60e-d73a-4f0a-b4cf-0cc8757b31b5"
      },
      "execution_count": 7,
      "outputs": [
        {
          "output_type": "stream",
          "name": "stdout",
          "text": [
            "6.893502497688077\n",
            "------------------------------\n",
            "2.2616111869268716\n",
            "------------------------------\n"
          ]
        }
      ]
    },
    {
      "cell_type": "code",
      "source": [
        "tmp=10*emily.random.random((4,4))\n",
        "print(tmp)"
      ],
      "metadata": {
        "colab": {
          "base_uri": "https://localhost:8080/"
        },
        "id": "q_pDe9QeT5KD",
        "outputId": "eaf0a17d-223e-490b-aaa7-cdb21a902b16"
      },
      "execution_count": 8,
      "outputs": [
        {
          "output_type": "stream",
          "name": "stdout",
          "text": [
            "[[9.28433143 1.84668595 3.49684665 4.06459918]\n",
            " [2.49442839 6.96877715 0.61714687 6.78956486]\n",
            " [9.11559401 3.0654718  0.21525673 3.46944459]\n",
            " [2.91539062 3.01973414 2.93179706 0.08692208]]\n"
          ]
        }
      ]
    },
    {
      "cell_type": "code",
      "source": [
        "mascara=tmp>5\n",
        "print(mascara)\n",
        "print('------------------------------')\n",
        "print(tmp[mascara])\n",
        "print('------------------------------')"
      ],
      "metadata": {
        "colab": {
          "base_uri": "https://localhost:8080/"
        },
        "id": "Q9jpU3zhT_X7",
        "outputId": "1f1a3c4a-f417-4d76-c724-2b187b952c28"
      },
      "execution_count": 9,
      "outputs": [
        {
          "output_type": "stream",
          "name": "stdout",
          "text": [
            "[[ True False False False]\n",
            " [False  True False  True]\n",
            " [ True False False False]\n",
            " [False False False False]]\n",
            "------------------------------\n",
            "[9.28433143 6.96877715 6.78956486 9.11559401]\n",
            "------------------------------\n"
          ]
        }
      ]
    },
    {
      "cell_type": "code",
      "source": [
        "mask = (tmp >=2) & (tmp<=4)\n",
        "print(tmp[mask])"
      ],
      "metadata": {
        "colab": {
          "base_uri": "https://localhost:8080/"
        },
        "id": "LvrnHa0qULQ6",
        "outputId": "ccaedd72-99ce-411b-da04-42b9cb34617e"
      },
      "execution_count": 10,
      "outputs": [
        {
          "output_type": "stream",
          "name": "stdout",
          "text": [
            "[3.49684665 2.49442839 3.0654718  3.46944459 2.91539062 3.01973414\n",
            " 2.93179706]\n"
          ]
        }
      ]
    },
    {
      "cell_type": "code",
      "source": [
        "tmp = emily.random.randint(0, 11, size=(4, 4))\n",
        "print(tmp)\n",
        "print('----------------------------------')\n",
        "mask = emily.mod(tmp, 2) == 0\n",
        "print(tmp[mask])"
      ],
      "metadata": {
        "colab": {
          "base_uri": "https://localhost:8080/"
        },
        "id": "rh7YX8UtUUv6",
        "outputId": "2f13556e-6089-43e5-a623-2db25c417b32"
      },
      "execution_count": 11,
      "outputs": [
        {
          "output_type": "stream",
          "name": "stdout",
          "text": [
            "[[7 7 2 7]\n",
            " [6 5 6 6]\n",
            " [9 3 0 8]\n",
            " [3 2 5 0]]\n",
            "----------------------------------\n",
            "[2 6 6 6 0 8 2 0]\n"
          ]
        }
      ]
    }
  ]
}