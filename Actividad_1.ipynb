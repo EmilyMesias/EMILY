{
  "nbformat": 4,
  "nbformat_minor": 0,
  "metadata": {
    "colab": {
      "provenance": [],
      "toc_visible": true,
      "include_colab_link": true
    },
    "kernelspec": {
      "name": "python3",
      "display_name": "Python 3"
    },
    "language_info": {
      "name": "python"
    }
  },
  "cells": [
    {
      "cell_type": "markdown",
      "metadata": {
        "id": "view-in-github",
        "colab_type": "text"
      },
      "source": [
        "<a href=\"https://colab.research.google.com/github/EmilyMesias/EMILY/blob/main/Actividad_1.ipynb\" target=\"_parent\"><img src=\"https://colab.research.google.com/assets/colab-badge.svg\" alt=\"Open In Colab\"/></a>"
      ]
    },
    {
      "cell_type": "code",
      "execution_count": 1,
      "metadata": {
        "id": "qGg3FEqpt3nh"
      },
      "outputs": [],
      "source": [
        "num_1 = 1"
      ]
    },
    {
      "cell_type": "code",
      "source": [
        "num_2 = 2"
      ],
      "metadata": {
        "id": "Y3C0vosPuYrs"
      },
      "execution_count": 2,
      "outputs": []
    },
    {
      "cell_type": "code",
      "source": [
        "print(num_1+num_2)"
      ],
      "metadata": {
        "colab": {
          "base_uri": "https://localhost:8080/"
        },
        "id": "e-XRzQFPubl9",
        "outputId": "0e089eb6-5ba6-45c9-cfa6-0200085d40b6"
      },
      "execution_count": 3,
      "outputs": [
        {
          "output_type": "stream",
          "name": "stdout",
          "text": [
            "3\n"
          ]
        }
      ]
    },
    {
      "cell_type": "code",
      "source": [
        "pote = 1**num_2"
      ],
      "metadata": {
        "id": "OAbKsKI0uknh"
      },
      "execution_count": 4,
      "outputs": []
    },
    {
      "cell_type": "code",
      "source": [
        "print(pote)"
      ],
      "metadata": {
        "colab": {
          "base_uri": "https://localhost:8080/"
        },
        "id": "YOYx60VquyAu",
        "outputId": "55d18497-058a-4131-84f7-57f1559cf100"
      },
      "execution_count": 5,
      "outputs": [
        {
          "output_type": "stream",
          "name": "stdout",
          "text": [
            "1\n"
          ]
        }
      ]
    },
    {
      "cell_type": "code",
      "source": [
        "aux_1=True\n",
        "aux_2=False\n",
        "print(aux_1 and aux_2)\n",
        "print(aux_1 or aux_2)\n",
        "print(not aux_1)\n",
        "print(not aux_2)"
      ],
      "metadata": {
        "colab": {
          "base_uri": "https://localhost:8080/"
        },
        "id": "Y-NWyrHnu3Me",
        "outputId": "fdc5c5aa-6223-4309-c1a5-fe54792a7edf"
      },
      "execution_count": 6,
      "outputs": [
        {
          "output_type": "stream",
          "name": "stdout",
          "text": [
            "False\n",
            "True\n",
            "False\n",
            "True\n"
          ]
        }
      ]
    },
    {
      "cell_type": "code",
      "source": [
        "myName=\"EMILY\"\n",
        "print(myName)\n",
        "print(myName.upper())\n",
        "print(myName.lower())"
      ],
      "metadata": {
        "colab": {
          "base_uri": "https://localhost:8080/"
        },
        "id": "MZoQbzPOu6Iz",
        "outputId": "450ef6a4-4edd-48ef-dff6-dd45c18417c5"
      },
      "execution_count": 7,
      "outputs": [
        {
          "output_type": "stream",
          "name": "stdout",
          "text": [
            "EMILY\n",
            "EMILY\n",
            "emily\n"
          ]
        }
      ]
    },
    {
      "cell_type": "code",
      "source": [
        "tmp='Emily; Selena ; Mesias'\n",
        "print(tmp)\n",
        "print(tmp.split(';'))"
      ],
      "metadata": {
        "colab": {
          "base_uri": "https://localhost:8080/"
        },
        "id": "J3MQpdXku-aP",
        "outputId": "e8ea093a-656a-4fe6-f054-ab84f0d8598b"
      },
      "execution_count": 8,
      "outputs": [
        {
          "output_type": "stream",
          "name": "stdout",
          "text": [
            "Emily; Selena ; Mesias\n",
            "['Emily', ' Selena ', ' Mesias']\n"
          ]
        }
      ]
    },
    {
      "cell_type": "code",
      "source": [
        "lista=('libros','lapiz','Lapicero','regla')\n",
        "print(lista)\n",
        "nuevo_objeto='hoja'\n",
        "#lista.append(nuevo_objeto)\n",
        "print(lista)"
      ],
      "metadata": {
        "colab": {
          "base_uri": "https://localhost:8080/"
        },
        "id": "9GL4nsoovx5s",
        "outputId": "21d92d34-7c77-40f5-fe70-142bb8bc4889"
      },
      "execution_count": 9,
      "outputs": [
        {
          "output_type": "stream",
          "name": "stdout",
          "text": [
            "('libros', 'lapiz', 'Lapicero', 'regla')\n",
            "('libros', 'lapiz', 'Lapicero', 'regla')\n"
          ]
        }
      ]
    },
    {
      "cell_type": "code",
      "source": [
        "newListeNum=list(range(20))\n",
        "print(newListeNum)\n",
        "print(newListeNum[5:11])\n",
        "print(newListeNum[-1])"
      ],
      "metadata": {
        "colab": {
          "base_uri": "https://localhost:8080/"
        },
        "id": "3e1KCizMv7kf",
        "outputId": "332008a3-c38f-4749-cba5-f4dd4d6a6bcc"
      },
      "execution_count": 10,
      "outputs": [
        {
          "output_type": "stream",
          "name": "stdout",
          "text": [
            "[0, 1, 2, 3, 4, 5, 6, 7, 8, 9, 10, 11, 12, 13, 14, 15, 16, 17, 18, 19]\n",
            "[5, 6, 7, 8, 9, 10]\n",
            "19\n"
          ]
        }
      ]
    }
  ]
}