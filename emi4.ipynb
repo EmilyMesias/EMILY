{
  "nbformat": 4,
  "nbformat_minor": 0,
  "metadata": {
    "colab": {
      "provenance": [],
      "authorship_tag": "ABX9TyMK5kbP6WZhhhBdhzzSvwiN",
      "include_colab_link": true
    },
    "kernelspec": {
      "name": "python3",
      "display_name": "Python 3"
    },
    "language_info": {
      "name": "python"
    }
  },
  "cells": [
    {
      "cell_type": "markdown",
      "metadata": {
        "id": "view-in-github",
        "colab_type": "text"
      },
      "source": [
        "<a href=\"https://colab.research.google.com/github/EmilyMesias/EMILY/blob/main/emi4.ipynb\" target=\"_parent\"><img src=\"https://colab.research.google.com/assets/colab-badge.svg\" alt=\"Open In Colab\"/></a>"
      ]
    },
    {
      "cell_type": "code",
      "execution_count": 1,
      "metadata": {
        "colab": {
          "base_uri": "https://localhost:8080/"
        },
        "id": "2FaQNxQ0VefM",
        "outputId": "8ed3d682-f5aa-4504-b9d9-da92bc6c47d8"
      },
      "outputs": [
        {
          "output_type": "stream",
          "name": "stdout",
          "text": [
            "Python 3.10.12\n"
          ]
        }
      ],
      "source": [
        "\n",
        "!python --version\n"
      ]
    },
    {
      "cell_type": "code",
      "source": [
        "sample1=10\n",
        "sample2=2.2\n",
        "sample3='Ivan'\n",
        "print(type(sample1))\n",
        "print(type(sample2))\n",
        "print(type(sample3))\n",
        "\n",
        "print(sample1+sample2)\n",
        "print(sample1*sample2)\n",
        "print(sample1**2)\n",
        "\n",
        "s1=True\n",
        "s2=False\n",
        "\n",
        "#print(s1 and s2)\n",
        "#print(s1 or s2)\n",
        "#print(not s1)\n",
        "#print(len(sample3))\n",
        "#print(sample3.upper())\n",
        "#print(sample3.lower())\n",
        "#print(sample3.capitalize())"
      ],
      "metadata": {
        "colab": {
          "base_uri": "https://localhost:8080/"
        },
        "id": "T_FTaT3nVo1D",
        "outputId": "c64dccec-080b-45ad-de87-6859917e3ba2"
      },
      "execution_count": 2,
      "outputs": [
        {
          "output_type": "stream",
          "name": "stdout",
          "text": [
            "<class 'int'>\n",
            "<class 'float'>\n",
            "<class 'str'>\n",
            "12.2\n",
            "22.0\n",
            "100\n"
          ]
        }
      ]
    },
    {
      "cell_type": "code",
      "source": [
        "someList=list()\n",
        "someList=['borrador',1,'goma','mochila',True]\n",
        "#print(someList[4])\n",
        "#print(len(someList))\n",
        "\n",
        "#print('--------------')\n",
        "#for i in someList:\n",
        "#  print(i)\n",
        "\n",
        "\n",
        "#someList.append('regla')\n",
        "#print('--------------')\n",
        "#for i in someList:\n",
        "#  print (i)\n",
        "\n",
        "#someList.pop(2)\n",
        "#print('--------------')\n",
        "#for i in someList:\n",
        "#  print(i)\n",
        "#print('-------')\n",
        "#print(someList[1:4])\n",
        "print(someList[-1])\n",
        "print(someList[:3])"
      ],
      "metadata": {
        "colab": {
          "base_uri": "https://localhost:8080/"
        },
        "id": "7VmjepByVrGF",
        "outputId": "0c73ebac-ccf1-4d18-8ae3-13e3cc41f08f"
      },
      "execution_count": 3,
      "outputs": [
        {
          "output_type": "stream",
          "name": "stdout",
          "text": [
            "True\n",
            "['borrador', 1, 'goma']\n"
          ]
        }
      ]
    },
    {
      "cell_type": "code",
      "source": [
        "d={'name':'Emily','age':24,'city':'El Carmen'}\n",
        "#print(d['name'])\n",
        "#print(d['city'])\n",
        "\n",
        "#d['uni']='Uleam'\n",
        "#print(d['uni'])\n",
        "\n",
        "for key in d:\n",
        "  print(d[key])"
      ],
      "metadata": {
        "colab": {
          "base_uri": "https://localhost:8080/"
        },
        "id": "nO-P-qFZVvcG",
        "outputId": "ef91060f-62b9-4c85-d450-f86ec3745b4c"
      },
      "execution_count": 4,
      "outputs": [
        {
          "output_type": "stream",
          "name": "stdout",
          "text": [
            "Emily\n",
            "24\n",
            "El Carmen\n"
          ]
        }
      ]
    }
  ]
}